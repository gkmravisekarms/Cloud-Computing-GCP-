{
  "nbformat": 4,
  "nbformat_minor": 0,
  "metadata": {
    "colab": {
      "provenance": [],
      "authorship_tag": "ABX9TyO0GegQJCo6K/jvErs4kw7A",
      "include_colab_link": true
    },
    "kernelspec": {
      "name": "python3",
      "display_name": "Python 3"
    },
    "language_info": {
      "name": "python"
    }
  },
  "cells": [
    {
      "cell_type": "markdown",
      "metadata": {
        "id": "view-in-github",
        "colab_type": "text"
      },
      "source": [
        "<a href=\"https://colab.research.google.com/github/gkmravisekarms/Cloud-Computing-GCP-/blob/main/Collaborative-Filtering.ipynb\" target=\"_parent\"><img src=\"https://colab.research.google.com/assets/colab-badge.svg\" alt=\"Open In Colab\"/></a>"
      ]
    },
    {
      "cell_type": "markdown",
      "source": [
        "Check Java "
      ],
      "metadata": {
        "id": "4rhuMuU9vN4-"
      }
    },
    {
      "cell_type": "code",
      "source": [
        "! java -version"
      ],
      "metadata": {
        "colab": {
          "base_uri": "https://localhost:8080/"
        },
        "id": "XD4OuUebvReT",
        "outputId": "e1be033e-03a2-4160-95c0-86f654c817c0"
      },
      "execution_count": null,
      "outputs": [
        {
          "output_type": "stream",
          "name": "stdout",
          "text": [
            "openjdk version \"11.0.17\" 2022-10-18\n",
            "OpenJDK Runtime Environment (build 11.0.17+8-post-Ubuntu-1ubuntu218.04)\n",
            "OpenJDK 64-Bit Server VM (build 11.0.17+8-post-Ubuntu-1ubuntu218.04, mixed mode, sharing)\n"
          ]
        }
      ]
    },
    {
      "cell_type": "markdown",
      "source": [
        "Install PySpark"
      ],
      "metadata": {
        "id": "CR-2spmMveq6"
      }
    },
    {
      "cell_type": "code",
      "source": [
        "# Install pyspark\n",
        "!pip install pyspark"
      ],
      "metadata": {
        "colab": {
          "base_uri": "https://localhost:8080/",
          "height": 0
        },
        "id": "kqQjQGeOvtfA",
        "outputId": "33cd3ca5-4ddb-4437-bb62-8fe7bbb830f4"
      },
      "execution_count": 2,
      "outputs": [
        {
          "output_type": "stream",
          "name": "stdout",
          "text": [
            "Looking in indexes: https://pypi.org/simple, https://us-python.pkg.dev/colab-wheels/public/simple/\n",
            "Collecting pyspark\n",
            "  Downloading pyspark-3.3.1.tar.gz (281.4 MB)\n",
            "\u001b[K     |████████████████████████████████| 281.4 MB 43 kB/s \n",
            "\u001b[?25hCollecting py4j==0.10.9.5\n",
            "  Downloading py4j-0.10.9.5-py2.py3-none-any.whl (199 kB)\n",
            "\u001b[K     |████████████████████████████████| 199 kB 50.1 MB/s \n",
            "\u001b[?25hBuilding wheels for collected packages: pyspark\n",
            "  Building wheel for pyspark (setup.py) ... \u001b[?25l\u001b[?25hdone\n",
            "  Created wheel for pyspark: filename=pyspark-3.3.1-py2.py3-none-any.whl size=281845514 sha256=c3fbf65813a8420dc32dd334242b541120ccde337aa9d9d0affd625eb520db9f\n",
            "  Stored in directory: /root/.cache/pip/wheels/42/59/f5/79a5bf931714dcd201b26025347785f087370a10a3329a899c\n",
            "Successfully built pyspark\n",
            "Installing collected packages: py4j, pyspark\n",
            "Successfully installed py4j-0.10.9.5 pyspark-3.3.1\n"
          ]
        }
      ]
    },
    {
      "cell_type": "markdown",
      "source": [
        "After installation, we can create a Spark session and check its information."
      ],
      "metadata": {
        "id": "VqXWTcUawQhY"
      }
    },
    {
      "cell_type": "code",
      "source": [
        "# Import SparkSession\n",
        "from pyspark.sql import SparkSession"
      ],
      "metadata": {
        "id": "1j54ogoewVMb"
      },
      "execution_count": 3,
      "outputs": []
    },
    {
      "cell_type": "code",
      "source": [
        "# Create a Spark Session\n",
        "spark = SparkSession.builder.master(\"local[*]\").getOrCreate()"
      ],
      "metadata": {
        "id": "SuD1ymO4waD2"
      },
      "execution_count": 4,
      "outputs": []
    },
    {
      "cell_type": "code",
      "source": [
        "# Check Spark Session Information\n",
        "spark"
      ],
      "metadata": {
        "colab": {
          "base_uri": "https://localhost:8080/",
          "height": 222
        },
        "id": "NXne7COWwif1",
        "outputId": "c7a2722f-53e7-44aa-8f70-caeac24f4aa6"
      },
      "execution_count": 5,
      "outputs": [
        {
          "output_type": "execute_result",
          "data": {
            "text/plain": [
              "<pyspark.sql.session.SparkSession at 0x7f385bdc5f10>"
            ],
            "text/html": [
              "\n",
              "            <div>\n",
              "                <p><b>SparkSession - in-memory</b></p>\n",
              "                \n",
              "        <div>\n",
              "            <p><b>SparkContext</b></p>\n",
              "\n",
              "            <p><a href=\"http://8bfc3ed9cff9:4040\">Spark UI</a></p>\n",
              "\n",
              "            <dl>\n",
              "              <dt>Version</dt>\n",
              "                <dd><code>v3.3.1</code></dd>\n",
              "              <dt>Master</dt>\n",
              "                <dd><code>local[*]</code></dd>\n",
              "              <dt>AppName</dt>\n",
              "                <dd><code>pyspark-shell</code></dd>\n",
              "            </dl>\n",
              "        </div>\n",
              "        \n",
              "            </div>\n",
              "        "
            ]
          },
          "metadata": {},
          "execution_count": 5
        }
      ]
    },
    {
      "cell_type": "markdown",
      "source": [
        "We can also test the installation by importing a Spark library."
      ],
      "metadata": {
        "id": "cbooiLeuwxiK"
      }
    },
    {
      "cell_type": "markdown",
      "source": [],
      "metadata": {
        "id": "B5q8d-9swx0y"
      }
    },
    {
      "cell_type": "code",
      "source": [
        "# Import a Spark function from library\n",
        "from pyspark.sql.functions import col"
      ],
      "metadata": {
        "id": "58CpmnexwyQA"
      },
      "execution_count": 6,
      "outputs": []
    },
    {
      "cell_type": "markdown",
      "source": [
        "Import libraries"
      ],
      "metadata": {
        "id": "iDbdgWibxEyo"
      }
    },
    {
      "cell_type": "code",
      "source": [
        "#https://grouplens.org/datasets/movielens/"
      ],
      "metadata": {
        "id": "_u2Kiz0IxFbi"
      },
      "execution_count": 7,
      "outputs": []
    },
    {
      "cell_type": "code",
      "source": [
        "import pandas as pd\n",
        "from pyspark.sql.functions import col, explode\n",
        "from pyspark import SparkContext"
      ],
      "metadata": {
        "id": "1gxMlajoxN8x"
      },
      "execution_count": 8,
      "outputs": []
    },
    {
      "cell_type": "markdown",
      "source": [
        "Initiate spark session"
      ],
      "metadata": {
        "id": "139AHEMmxTv8"
      }
    },
    {
      "cell_type": "code",
      "source": [
        "from pyspark.sql import SparkSession\n",
        "sc = SparkContext\n",
        "# sc.setCheckpointDir('checkpoint')\n",
        "spark = SparkSession.builder.appName('Recommendations').getOrCreate()"
      ],
      "metadata": {
        "id": "gUGoDr4OxUcy"
      },
      "execution_count": 9,
      "outputs": []
    },
    {
      "cell_type": "markdown",
      "source": [
        "1. Load data"
      ],
      "metadata": {
        "id": "gpXYgN2Yxhqz"
      }
    },
    {
      "cell_type": "code",
      "source": [
        "from google.colab import drive\n",
        "drive.mount('/content/drive')\n"
      ],
      "metadata": {
        "colab": {
          "base_uri": "https://localhost:8080/",
          "height": 0
        },
        "id": "dJy8nCnQxk_w",
        "outputId": "7520fa4e-56cf-4dc8-e6fa-218e4b29d163"
      },
      "execution_count": 10,
      "outputs": [
        {
          "output_type": "stream",
          "name": "stdout",
          "text": [
            "Mounted at /content/drive\n"
          ]
        }
      ]
    },
    {
      "cell_type": "code",
      "source": [
        "!ls -l /content/drive/MyDrive/"
      ],
      "metadata": {
        "colab": {
          "base_uri": "https://localhost:8080/",
          "height": 0
        },
        "id": "8zzrIDd0yfO_",
        "outputId": "cd02b004-88de-48c6-f329-95ef3d1b0bb8"
      },
      "execution_count": 11,
      "outputs": [
        {
          "output_type": "stream",
          "name": "stdout",
          "text": [
            "total 3035\n",
            "drwx------ 2 root root    4096 Nov 16 15:31 'Colab Notebooks'\n",
            "-rw------- 1 root root     143 Mar 23  2022 'Copy of CS540 - Project Group List.gsheet'\n",
            "-rw------- 1 root root     143 Nov 17 04:08  Gafterdisconnection.gslides\n",
            "drwx------ 2 root root    4096 Nov 17 00:16  GCollaborative-filtering\n",
            "-rw------- 1 root root  494429 Nov 16 02:42  gmovies.csv\n",
            "-rw------- 1 root root 2483721 Nov 16 02:45  gratings.csv\n",
            "-rw------- 1 root root  118658 Nov 16 02:48  gtags.csv\n",
            "-rw------- 1 root root     143 Nov 17 03:07  GWeek9-HW.gslides\n"
          ]
        }
      ]
    },
    {
      "cell_type": "code",
      "source": [
        "movies = spark.read.csv(\"/content/drive/MyDrive/gmovies.csv\",header=True)"
      ],
      "metadata": {
        "id": "Ue3g46dwzFJI"
      },
      "execution_count": 12,
      "outputs": []
    },
    {
      "cell_type": "code",
      "source": [
        "ratings = spark.read.csv(\"/content/drive/MyDrive/gratings.csv\",header=True)"
      ],
      "metadata": {
        "id": "c2qM_ol0zIfB"
      },
      "execution_count": 13,
      "outputs": []
    },
    {
      "cell_type": "code",
      "source": [
        "ratings.show()"
      ],
      "metadata": {
        "colab": {
          "base_uri": "https://localhost:8080/",
          "height": 0
        },
        "id": "FxfeVTTazdRW",
        "outputId": "b2a38540-b79a-4255-9117-5df6091098f7"
      },
      "execution_count": 14,
      "outputs": [
        {
          "output_type": "stream",
          "name": "stdout",
          "text": [
            "+------+-------+------+---------+\n",
            "|userId|movieId|rating|timestamp|\n",
            "+------+-------+------+---------+\n",
            "|     1|      1|   4.0|964982703|\n",
            "|     1|      3|   4.0|964981247|\n",
            "|     1|      6|   4.0|964982224|\n",
            "|     1|     47|   5.0|964983815|\n",
            "|     1|     50|   5.0|964982931|\n",
            "|     1|     70|   3.0|964982400|\n",
            "|     1|    101|   5.0|964980868|\n",
            "|     1|    110|   4.0|964982176|\n",
            "|     1|    151|   5.0|964984041|\n",
            "|     1|    157|   5.0|964984100|\n",
            "|     1|    163|   5.0|964983650|\n",
            "|     1|    216|   5.0|964981208|\n",
            "|     1|    223|   3.0|964980985|\n",
            "|     1|    231|   5.0|964981179|\n",
            "|     1|    235|   4.0|964980908|\n",
            "|     1|    260|   5.0|964981680|\n",
            "|     1|    296|   3.0|964982967|\n",
            "|     1|    316|   3.0|964982310|\n",
            "|     1|    333|   5.0|964981179|\n",
            "|     1|    349|   4.0|964982563|\n",
            "+------+-------+------+---------+\n",
            "only showing top 20 rows\n",
            "\n"
          ]
        }
      ]
    },
    {
      "cell_type": "code",
      "source": [
        "ratings.printSchema()"
      ],
      "metadata": {
        "colab": {
          "base_uri": "https://localhost:8080/",
          "height": 0
        },
        "id": "fkWKFotczsHj",
        "outputId": "4bd0476e-0cd5-47b9-a48d-98e8acee593a"
      },
      "execution_count": 15,
      "outputs": [
        {
          "output_type": "stream",
          "name": "stdout",
          "text": [
            "root\n",
            " |-- userId: string (nullable = true)\n",
            " |-- movieId: string (nullable = true)\n",
            " |-- rating: string (nullable = true)\n",
            " |-- timestamp: string (nullable = true)\n",
            "\n"
          ]
        }
      ]
    },
    {
      "cell_type": "code",
      "source": [
        "ratings = ratings.\\\n",
        "    withColumn('userId', col('userId').cast('integer')).\\\n",
        "    withColumn('movieId', col('movieId').cast('integer')).\\\n",
        "    withColumn('rating', col('rating').cast('float')).\\\n",
        "    drop('timestamp')\n",
        "ratings.show()"
      ],
      "metadata": {
        "colab": {
          "base_uri": "https://localhost:8080/",
          "height": 0
        },
        "id": "AO4Xvb8Ezze5",
        "outputId": "a02acc1f-3e89-42b5-bf57-719dd0a58adc"
      },
      "execution_count": 16,
      "outputs": [
        {
          "output_type": "stream",
          "name": "stdout",
          "text": [
            "+------+-------+------+\n",
            "|userId|movieId|rating|\n",
            "+------+-------+------+\n",
            "|     1|      1|   4.0|\n",
            "|     1|      3|   4.0|\n",
            "|     1|      6|   4.0|\n",
            "|     1|     47|   5.0|\n",
            "|     1|     50|   5.0|\n",
            "|     1|     70|   3.0|\n",
            "|     1|    101|   5.0|\n",
            "|     1|    110|   4.0|\n",
            "|     1|    151|   5.0|\n",
            "|     1|    157|   5.0|\n",
            "|     1|    163|   5.0|\n",
            "|     1|    216|   5.0|\n",
            "|     1|    223|   3.0|\n",
            "|     1|    231|   5.0|\n",
            "|     1|    235|   4.0|\n",
            "|     1|    260|   5.0|\n",
            "|     1|    296|   3.0|\n",
            "|     1|    316|   3.0|\n",
            "|     1|    333|   5.0|\n",
            "|     1|    349|   4.0|\n",
            "+------+-------+------+\n",
            "only showing top 20 rows\n",
            "\n"
          ]
        }
      ]
    },
    {
      "cell_type": "markdown",
      "source": [
        "Calculate sparsity"
      ],
      "metadata": {
        "id": "BlNEhMRT0MBy"
      }
    },
    {
      "cell_type": "markdown",
      "source": [],
      "metadata": {
        "id": "p-26D97G0Mli"
      }
    },
    {
      "cell_type": "code",
      "source": [
        "# Count the total number of ratings in the dataset\n",
        "numerator = ratings.select(\"rating\").count()"
      ],
      "metadata": {
        "id": "Wq2MaV1u0NKz"
      },
      "execution_count": 17,
      "outputs": []
    },
    {
      "cell_type": "code",
      "source": [
        "# Count the number of distinct userIds and distinct movieIds\n",
        "num_users = ratings.select(\"userId\").distinct().count()\n",
        "num_movies = ratings.select(\"movieId\").distinct().count()"
      ],
      "metadata": {
        "id": "Xye3R99_0XCy"
      },
      "execution_count": 18,
      "outputs": []
    },
    {
      "cell_type": "code",
      "source": [
        "# Set the denominator equal to the number of users multiplied by the number of movies\n",
        "denominator = num_users * num_movies"
      ],
      "metadata": {
        "id": "JGIoa-dN0bj8"
      },
      "execution_count": 19,
      "outputs": []
    },
    {
      "cell_type": "code",
      "source": [
        "# Divide the numerator by the denominator\n",
        "sparsity = (1.0 - (numerator *1.0)/denominator)*100\n",
        "print(\"The ratings dataframe is \", \"%.2f\" % sparsity + \"% empty.\")"
      ],
      "metadata": {
        "colab": {
          "base_uri": "https://localhost:8080/",
          "height": 0
        },
        "id": "VYfQEp8y0gWc",
        "outputId": "68488d12-70e7-45a5-c310-2049b0df2906"
      },
      "execution_count": 20,
      "outputs": [
        {
          "output_type": "stream",
          "name": "stdout",
          "text": [
            "The ratings dataframe is  98.30% empty.\n"
          ]
        }
      ]
    },
    {
      "cell_type": "markdown",
      "source": [
        "Interpret ratings"
      ],
      "metadata": {
        "id": "qE5LA5-b00GJ"
      }
    },
    {
      "cell_type": "code",
      "source": [
        "# Group data by userId, count ratings\n",
        "userId_ratings = ratings.groupBy(\"userId\").count().orderBy('count', ascending=False)\n",
        "userId_ratings.show()"
      ],
      "metadata": {
        "colab": {
          "base_uri": "https://localhost:8080/",
          "height": 0
        },
        "id": "PW4g4MVQ03Gf",
        "outputId": "102d94a8-e33c-4760-ed5d-196c0e0d783d"
      },
      "execution_count": 21,
      "outputs": [
        {
          "output_type": "stream",
          "name": "stdout",
          "text": [
            "+------+-----+\n",
            "|userId|count|\n",
            "+------+-----+\n",
            "|   414| 2698|\n",
            "|   599| 2478|\n",
            "|   474| 2108|\n",
            "|   448| 1864|\n",
            "|   274| 1346|\n",
            "|   610| 1302|\n",
            "|    68| 1260|\n",
            "|   380| 1218|\n",
            "|   606| 1115|\n",
            "|   288| 1055|\n",
            "|   249| 1046|\n",
            "|   387| 1027|\n",
            "|   182|  977|\n",
            "|   307|  975|\n",
            "|   603|  943|\n",
            "|   298|  939|\n",
            "|   177|  904|\n",
            "|   318|  879|\n",
            "|   232|  862|\n",
            "|   480|  836|\n",
            "+------+-----+\n",
            "only showing top 20 rows\n",
            "\n"
          ]
        }
      ]
    },
    {
      "cell_type": "code",
      "source": [
        "# Group data by userId, count ratings\n",
        "movieId_ratings = ratings.groupBy(\"movieId\").count().orderBy('count', ascending=False)\n",
        "movieId_ratings.show()"
      ],
      "metadata": {
        "colab": {
          "base_uri": "https://localhost:8080/",
          "height": 0
        },
        "id": "r-CeD3Zz1PZz",
        "outputId": "7c484874-5832-403c-e52a-84ca563e80cb"
      },
      "execution_count": 22,
      "outputs": [
        {
          "output_type": "stream",
          "name": "stdout",
          "text": [
            "+-------+-----+\n",
            "|movieId|count|\n",
            "+-------+-----+\n",
            "|    356|  329|\n",
            "|    318|  317|\n",
            "|    296|  307|\n",
            "|    593|  279|\n",
            "|   2571|  278|\n",
            "|    260|  251|\n",
            "|    480|  238|\n",
            "|    110|  237|\n",
            "|    589|  224|\n",
            "|    527|  220|\n",
            "|   2959|  218|\n",
            "|      1|  215|\n",
            "|   1196|  211|\n",
            "|   2858|  204|\n",
            "|     50|  204|\n",
            "|     47|  203|\n",
            "|    780|  202|\n",
            "|    150|  201|\n",
            "|   1198|  200|\n",
            "|   4993|  198|\n",
            "+-------+-----+\n",
            "only showing top 20 rows\n",
            "\n"
          ]
        }
      ]
    },
    {
      "cell_type": "markdown",
      "source": [
        "Build Out An ALS Model"
      ],
      "metadata": {
        "id": "wfi4ijMY1i95"
      }
    },
    {
      "cell_type": "code",
      "source": [
        "# Import the required functions\n",
        "from pyspark.ml.evaluation import RegressionEvaluator\n",
        "from pyspark.ml.recommendation import ALS\n",
        "from pyspark.ml.tuning import ParamGridBuilder, CrossValidator"
      ],
      "metadata": {
        "id": "SgXkwTqG1jzs"
      },
      "execution_count": 23,
      "outputs": []
    },
    {
      "cell_type": "code",
      "source": [
        "# Create test and train set\n",
        "(train, test) = ratings.randomSplit([0.8, 0.2], seed = 1234)"
      ],
      "metadata": {
        "id": "0r4ZHrDW1rlx"
      },
      "execution_count": 24,
      "outputs": []
    },
    {
      "cell_type": "code",
      "source": [
        "# Create ALS model\n",
        "als = ALS(userCol=\"userId\", itemCol=\"movieId\", ratingCol=\"rating\", nonnegative = True, implicitPrefs = False, coldStartStrategy=\"drop\")"
      ],
      "metadata": {
        "id": "Hzrl-Poo1wVD"
      },
      "execution_count": 25,
      "outputs": []
    },
    {
      "cell_type": "code",
      "source": [
        "# Confirm that a model called \"als\" was created\n",
        "type(als)"
      ],
      "metadata": {
        "colab": {
          "base_uri": "https://localhost:8080/",
          "height": 0
        },
        "id": "0I7uIqbW1yVm",
        "outputId": "9698976f-f14c-468b-83e5-34888cb2cfd9"
      },
      "execution_count": 26,
      "outputs": [
        {
          "output_type": "execute_result",
          "data": {
            "text/plain": [
              "pyspark.ml.recommendation.ALS"
            ]
          },
          "metadata": {},
          "execution_count": 26
        }
      ]
    },
    {
      "cell_type": "markdown",
      "source": [
        "Tell Spark how to tune your ALS model"
      ],
      "metadata": {
        "id": "CdJg_JVl2DlP"
      }
    },
    {
      "cell_type": "code",
      "source": [
        "# Import the requisite items\n",
        "from pyspark.ml.evaluation import RegressionEvaluator\n",
        "from pyspark.ml.tuning import ParamGridBuilder, CrossValidator"
      ],
      "metadata": {
        "id": "hdLtyTdE2EZ2"
      },
      "execution_count": 27,
      "outputs": []
    },
    {
      "cell_type": "code",
      "source": [
        "# Add hyperparameters and their respective values to param_grid\n",
        "param_grid = ParamGridBuilder() \\\n",
        "            .addGrid(als.rank, [10, 50, 100, 150]) \\\n",
        "            .addGrid(als.regParam, [.01, .05, .1, .15]) \\\n",
        "            .build()\n",
        "            #             .addGrid(als.maxIter, [5, 50, 100, 200]) \\"
      ],
      "metadata": {
        "id": "U3fvP42K2LPh"
      },
      "execution_count": 28,
      "outputs": []
    },
    {
      "cell_type": "code",
      "source": [
        "# Define evaluator as RMSE and print length of evaluator\n",
        "evaluator = RegressionEvaluator(metricName=\"rmse\", labelCol=\"rating\", predictionCol=\"prediction\") \n",
        "print (\"Num models to be tested: \", len(param_grid))"
      ],
      "metadata": {
        "colab": {
          "base_uri": "https://localhost:8080/",
          "height": 0
        },
        "id": "SB_M6DXm2PD9",
        "outputId": "2f51d81e-5b6f-4ffe-bbde-b7b7b6aee3c7"
      },
      "execution_count": 29,
      "outputs": [
        {
          "output_type": "stream",
          "name": "stdout",
          "text": [
            "Num models to be tested:  16\n"
          ]
        }
      ]
    },
    {
      "cell_type": "markdown",
      "source": [
        "Build your cross validation pipeline"
      ],
      "metadata": {
        "id": "CbzutgUm2klk"
      }
    },
    {
      "cell_type": "markdown",
      "source": [],
      "metadata": {
        "id": "Fsmk2Yju2k3W"
      }
    },
    {
      "cell_type": "code",
      "source": [
        "# Build cross validation using CrossValidator\n",
        "cv = CrossValidator(estimator=als, estimatorParamMaps=param_grid, evaluator=evaluator, numFolds=5)"
      ],
      "metadata": {
        "id": "hAx0yV7H2lQz"
      },
      "execution_count": 30,
      "outputs": []
    },
    {
      "cell_type": "code",
      "source": [
        "# Confirm cv was built\n",
        "print(cv)"
      ],
      "metadata": {
        "colab": {
          "base_uri": "https://localhost:8080/",
          "height": 0
        },
        "id": "fJITdC9O2prC",
        "outputId": "0ab646c5-c4da-4475-edaf-3211d5e7c61e"
      },
      "execution_count": 31,
      "outputs": [
        {
          "output_type": "stream",
          "name": "stdout",
          "text": [
            "CrossValidator_f90cad514f07\n"
          ]
        }
      ]
    },
    {
      "cell_type": "markdown",
      "source": [
        "Best Model and Best Model Parameters"
      ],
      "metadata": {
        "id": "CSDN2v_Q2_Eh"
      }
    },
    {
      "cell_type": "code",
      "source": [
        "#Fit cross validator to the 'train' dataset\n",
        "model = cv.fit(train)"
      ],
      "metadata": {
        "id": "Libhr03c2_1A"
      },
      "execution_count": 32,
      "outputs": []
    },
    {
      "cell_type": "code",
      "source": [
        "#Extract best model from the cv model above\n",
        "best_model = model.bestModel"
      ],
      "metadata": {
        "id": "jNrMPif-PmNj"
      },
      "execution_count": 33,
      "outputs": []
    },
    {
      "cell_type": "code",
      "source": [
        "# Print best_model\n",
        "print(type(best_model))"
      ],
      "metadata": {
        "colab": {
          "base_uri": "https://localhost:8080/",
          "height": 0
        },
        "id": "BzqX2cAePx9m",
        "outputId": "6e5a6ece-57b2-480f-c2ea-4523b3826a30"
      },
      "execution_count": 34,
      "outputs": [
        {
          "output_type": "stream",
          "name": "stdout",
          "text": [
            "<class 'pyspark.ml.recommendation.ALSModel'>\n"
          ]
        }
      ]
    },
    {
      "cell_type": "code",
      "source": [
        "# Complete the code below to extract the ALS model parameters\n",
        "print(\"**Best Model**\")"
      ],
      "metadata": {
        "colab": {
          "base_uri": "https://localhost:8080/",
          "height": 0
        },
        "id": "DNtLoGNBQDYt",
        "outputId": "8f572644-95c1-4708-cf1d-ab9ad935166c"
      },
      "execution_count": 35,
      "outputs": [
        {
          "output_type": "stream",
          "name": "stdout",
          "text": [
            "**Best Model**\n"
          ]
        }
      ]
    },
    {
      "cell_type": "code",
      "source": [
        "# # Print \"Rank\"\n",
        "print(\"  Rank:\", best_model._java_obj.parent().getRank())"
      ],
      "metadata": {
        "colab": {
          "base_uri": "https://localhost:8080/",
          "height": 0
        },
        "id": "Nla9ADhYQLdK",
        "outputId": "357cc894-9a54-46c8-f154-a36716fdbf67"
      },
      "execution_count": 36,
      "outputs": [
        {
          "output_type": "stream",
          "name": "stdout",
          "text": [
            "  Rank: 50\n"
          ]
        }
      ]
    },
    {
      "cell_type": "code",
      "source": [
        "# Print \"MaxIter\"\n",
        "print(\"  MaxIter:\", best_model._java_obj.parent().getMaxIter())\n"
      ],
      "metadata": {
        "colab": {
          "base_uri": "https://localhost:8080/",
          "height": 0
        },
        "id": "IaZVUcW4QUUT",
        "outputId": "6592aa14-daf5-43cd-ae1d-aaa358a450fc"
      },
      "execution_count": 37,
      "outputs": [
        {
          "output_type": "stream",
          "name": "stdout",
          "text": [
            "  MaxIter: 10\n"
          ]
        }
      ]
    },
    {
      "cell_type": "code",
      "source": [
        "# Print \"RegParam\"\n",
        "print(\"  RegParam:\", best_model._java_obj.parent().getRegParam())"
      ],
      "metadata": {
        "colab": {
          "base_uri": "https://localhost:8080/",
          "height": 0
        },
        "id": "1EbM5qN_QZ1t",
        "outputId": "58527b16-6df8-4a44-d95a-09af3792241b"
      },
      "execution_count": 38,
      "outputs": [
        {
          "output_type": "stream",
          "name": "stdout",
          "text": [
            "  RegParam: 0.15\n"
          ]
        }
      ]
    },
    {
      "cell_type": "code",
      "source": [
        "# View the predictions\n",
        "test_predictions = best_model.transform(test)\n",
        "RMSE = evaluator.evaluate(test_predictions)\n",
        "print(RMSE)"
      ],
      "metadata": {
        "colab": {
          "base_uri": "https://localhost:8080/",
          "height": 0
        },
        "id": "64-7g337Qt9M",
        "outputId": "439a682c-0c7f-4379-e5db-411e47bcde64"
      },
      "execution_count": 39,
      "outputs": [
        {
          "output_type": "stream",
          "name": "stdout",
          "text": [
            "0.8678589181737388\n"
          ]
        }
      ]
    },
    {
      "cell_type": "code",
      "source": [
        "test_predictions.show()"
      ],
      "metadata": {
        "colab": {
          "base_uri": "https://localhost:8080/",
          "height": 0
        },
        "id": "ve8J_Jj_Q76i",
        "outputId": "82db851d-90bf-4d16-eb2c-955ed9911fc2"
      },
      "execution_count": 41,
      "outputs": [
        {
          "output_type": "stream",
          "name": "stdout",
          "text": [
            "+------+-------+------+----------+\n",
            "|userId|movieId|rating|prediction|\n",
            "+------+-------+------+----------+\n",
            "|   148|    356|   4.0|  3.464672|\n",
            "|   148|   4896|   4.0| 3.4670408|\n",
            "|   148|   4993|   3.0|   3.52035|\n",
            "|   148|   7153|   3.0| 3.4120665|\n",
            "|   148|   8368|   4.0| 3.5930173|\n",
            "|   148|  40629|   5.0| 3.2363656|\n",
            "|   148|  50872|   3.0| 3.7235408|\n",
            "|   148|  60069|   4.5| 3.6385822|\n",
            "|   148|  69757|   3.5|  3.519815|\n",
            "|   148|  72998|   4.0|  3.232824|\n",
            "|   148|  81847|   4.5| 3.5208135|\n",
            "|   148|  98491|   5.0| 3.7861571|\n",
            "|   148| 115617|   3.5| 3.4901662|\n",
            "|   148| 122886|   3.5| 3.4427116|\n",
            "|   463|    296|   4.0| 4.1831555|\n",
            "|   463|    527|   4.0|  3.736365|\n",
            "|   463|   2019|   4.0| 3.9875493|\n",
            "|   471|    527|   4.5| 3.8419898|\n",
            "|   471|   6016|   4.0| 3.9658365|\n",
            "|   471|   6333|   2.5|  3.255078|\n",
            "+------+-------+------+----------+\n",
            "only showing top 20 rows\n",
            "\n"
          ]
        }
      ]
    },
    {
      "cell_type": "markdown",
      "source": [
        "Make Recommendations"
      ],
      "metadata": {
        "id": "V0MMAVAwRTtM"
      }
    },
    {
      "cell_type": "code",
      "source": [
        "# Generate n Recommendations for all users\n",
        "nrecommendations = best_model.recommendForAllUsers(10)\n",
        "nrecommendations.limit(10).show()"
      ],
      "metadata": {
        "colab": {
          "base_uri": "https://localhost:8080/",
          "height": 0
        },
        "id": "pHSpCnlxRUt7",
        "outputId": "cf36b10a-f269-4c60-b5b3-b711f3c5dd55"
      },
      "execution_count": 42,
      "outputs": [
        {
          "output_type": "stream",
          "name": "stdout",
          "text": [
            "+------+--------------------+\n",
            "|userId|     recommendations|\n",
            "+------+--------------------+\n",
            "|     1|[{3379, 5.7355146...|\n",
            "|     3|[{70946, 4.866154...|\n",
            "|     5|[{5490, 4.5791554...|\n",
            "|     6|[{3925, 4.8140335...|\n",
            "|     9|[{3379, 4.935473}...|\n",
            "|    12|[{42730, 5.655360...|\n",
            "|    13|[{33649, 4.978508...|\n",
            "|    15|[{3379, 4.527062}...|\n",
            "|    16|[{3379, 4.614239}...|\n",
            "|    17|[{3379, 5.1721935...|\n",
            "+------+--------------------+\n",
            "\n"
          ]
        }
      ]
    },
    {
      "cell_type": "code",
      "source": [
        "nrecommendations = nrecommendations\\\n",
        "    .withColumn(\"rec_exp\", explode(\"recommendations\"))\\\n",
        "    .select('userId', col(\"rec_exp.movieId\"), col(\"rec_exp.rating\"))\n",
        "\n",
        "nrecommendations.limit(10).show()"
      ],
      "metadata": {
        "colab": {
          "base_uri": "https://localhost:8080/",
          "height": 0
        },
        "id": "VWED1WCxRuc1",
        "outputId": "d3f6c3c5-3e14-4c8b-c688-e06ecec393f3"
      },
      "execution_count": 43,
      "outputs": [
        {
          "output_type": "stream",
          "name": "stdout",
          "text": [
            "+------+-------+---------+\n",
            "|userId|movieId|   rating|\n",
            "+------+-------+---------+\n",
            "|     1|   3379|5.7355146|\n",
            "|     1|  33649|5.5564117|\n",
            "|     1|   5490|  5.47559|\n",
            "|     1| 171495|5.4036317|\n",
            "|     1|   5328| 5.361952|\n",
            "|     1|   5416| 5.361952|\n",
            "|     1|   3951| 5.361952|\n",
            "|     1|  78836|5.3408904|\n",
            "|     1|   5915| 5.309985|\n",
            "|     1|   8477|5.3042073|\n",
            "+------+-------+---------+\n",
            "\n"
          ]
        }
      ]
    },
    {
      "cell_type": "markdown",
      "source": [
        "Do the recommendations make sense?"
      ],
      "metadata": {
        "id": "Jt1bp22AR9uZ"
      }
    },
    {
      "cell_type": "markdown",
      "source": [
        "Lets merge movie name and genres to th recommendation matrix for interpretability."
      ],
      "metadata": {
        "id": "LiHAkRqWSWGI"
      }
    },
    {
      "cell_type": "code",
      "source": [
        "nrecommendations.join(movies, on='movieId').filter('userId = 100').show()"
      ],
      "metadata": {
        "colab": {
          "base_uri": "https://localhost:8080/",
          "height": 0
        },
        "id": "dBxfBqi4SZFG",
        "outputId": "6eb8b662-ba5f-4bc4-880a-7e182dfc51f0"
      },
      "execution_count": 44,
      "outputs": [
        {
          "output_type": "stream",
          "name": "stdout",
          "text": [
            "+-------+------+---------+--------------------+--------------------+\n",
            "|movieId|userId|   rating|               title|              genres|\n",
            "+-------+------+---------+--------------------+--------------------+\n",
            "|  67618|   100|  5.15273|Strictly Sexual (...|Comedy|Drama|Romance|\n",
            "|  33649|   100| 5.095666|  Saving Face (2004)|Comedy|Drama|Romance|\n",
            "|   3379|   100|5.0508056| On the Beach (1959)|               Drama|\n",
            "|  45503|   100|4.9322023|Peaceful Warrior ...|               Drama|\n",
            "|  42730|   100| 4.919008|   Glory Road (2006)|               Drama|\n",
            "|  74282|   100| 4.916703|Anne of Green Gab...|Children|Drama|Ro...|\n",
            "| 117531|   100|4.9119444|    Watermark (2014)|         Documentary|\n",
            "| 179135|   100|4.9119444|Blue Planet II (2...|         Documentary|\n",
            "|   7071|   100|4.9119444|Woman Under the I...|               Drama|\n",
            "|  84273|   100|4.9119444|Zeitgeist: Moving...|         Documentary|\n",
            "+-------+------+---------+--------------------+--------------------+\n",
            "\n"
          ]
        }
      ]
    },
    {
      "cell_type": "code",
      "source": [
        "ratings.join(movies, on='movieId').filter('userId = 100').sort('rating', ascending=False).limit(10).show()"
      ],
      "metadata": {
        "colab": {
          "base_uri": "https://localhost:8080/",
          "height": 0
        },
        "id": "b5VPYMRaSiq8",
        "outputId": "e2bcb2de-d806-4172-d1cd-4fc3f89ece92"
      },
      "execution_count": 45,
      "outputs": [
        {
          "output_type": "stream",
          "name": "stdout",
          "text": [
            "+-------+------+------+--------------------+--------------------+\n",
            "|movieId|userId|rating|               title|              genres|\n",
            "+-------+------+------+--------------------+--------------------+\n",
            "|   1101|   100|   5.0|      Top Gun (1986)|      Action|Romance|\n",
            "|   1958|   100|   5.0|Terms of Endearme...|        Comedy|Drama|\n",
            "|   2423|   100|   5.0|Christmas Vacatio...|              Comedy|\n",
            "|   4041|   100|   5.0|Officer and a Gen...|       Drama|Romance|\n",
            "|   5620|   100|   5.0|Sweet Home Alabam...|      Comedy|Romance|\n",
            "|    368|   100|   4.5|     Maverick (1994)|Adventure|Comedy|...|\n",
            "|    934|   100|   4.5|Father of the Bri...|              Comedy|\n",
            "|    539|   100|   4.5|Sleepless in Seat...|Comedy|Drama|Romance|\n",
            "|     16|   100|   4.5|       Casino (1995)|         Crime|Drama|\n",
            "|    553|   100|   4.5|    Tombstone (1993)|Action|Drama|Western|\n",
            "+-------+------+------+--------------------+--------------------+\n",
            "\n"
          ]
        }
      ]
    }
  ]
}